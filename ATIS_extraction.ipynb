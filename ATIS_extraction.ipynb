{
  "cells": [
    {
      "cell_type": "markdown",
      "metadata": {
        "colab_type": "text",
        "id": "view-in-github"
      },
      "source": [
        "<a href=\"https://colab.research.google.com/github/GabrielOlem/projetoPLN/blob/main/ATIS_extraction.ipynb\" target=\"_parent\"><img src=\"https://colab.research.google.com/assets/colab-badge.svg\" alt=\"Open In Colab\"/></a>"
      ]
    },
    {
      "cell_type": "markdown",
      "metadata": {
        "id": "SFcF_iwdQ3Xn"
      },
      "source": [
        "## IMPORTS"
      ]
    },
    {
      "cell_type": "code",
      "execution_count": 247,
      "metadata": {
        "id": "WU84Eeg07sLM"
      },
      "outputs": [],
      "source": [
        "import tensorflow as tf\n",
        "import pickle\n",
        "import os\n",
        "import numpy as np\n",
        "import pandas as pd\n",
        "import seaborn as sns\n",
        "from sklearn.metrics import classification_report, confusion_matrix\n",
        "from tensorflow.keras.preprocessing.sequence import pad_sequences\n",
        "from sklearn.model_selection import train_test_split\n",
        "from tensorflow.keras.layers import Dense, Dropout, LSTM, Embedding, RepeatVector, TimeDistributed, Bidirectional, GRU\n",
        "from tensorflow.keras.models import Sequential\n",
        "from tensorflow.keras.preprocessing.sequence import pad_sequences\n",
        "from tensorflow.keras.utils import to_categorical\n"
      ]
    },
    {
      "cell_type": "markdown",
      "metadata": {
        "id": "4VLtQ6F7Q3Xs"
      },
      "source": [
        "## LOAD DATASET AND GET TOKENS, SLOTS AND INTENTS, AND THEIR INDEXES"
      ]
    },
    {
      "cell_type": "code",
      "execution_count": 2,
      "metadata": {
        "id": "8tGXa8QP5EAT"
      },
      "outputs": [],
      "source": [
        "def load_ds(fname):\n",
        "    #fname = os.path.join('/content/drive/MyDrive/CIn/2021.1/PLN_projeto',fname)\n",
        "    with open(fname, 'rb') as stream:\n",
        "        ds, dicts = pickle.load(stream)\n",
        "    print('Done  loading: ', fname)\n",
        "    print('      samples: {:4d}'.format(len(ds['query'])))\n",
        "    print('   vocab_size: {:4d}'.format(len(dicts['token_ids'])))\n",
        "    print('   slot count: {:4d}'.format(len(dicts['slot_ids'])))\n",
        "    print(' intent count: {:4d}'.format(len(dicts['intent_ids'])))\n",
        "    return ds, dicts"
      ]
    },
    {
      "cell_type": "code",
      "execution_count": 3,
      "metadata": {
        "colab": {
          "base_uri": "https://localhost:8080/"
        },
        "id": "b9Z7t_pA5Jv1",
        "outputId": "f422b5f5-cda7-46b2-cf09-fe8650c71474"
      },
      "outputs": [
        {
          "name": "stdout",
          "output_type": "stream",
          "text": [
            "Done  loading:  atis.train.pkl\n",
            "      samples: 4978\n",
            "   vocab_size:  943\n",
            "   slot count:  129\n",
            " intent count:   26\n",
            "Done  loading:  atis.test.pkl\n",
            "      samples:  893\n",
            "   vocab_size:  943\n",
            "   slot count:  129\n",
            " intent count:   26\n"
          ]
        }
      ],
      "source": [
        "train_ds, dicts = load_ds('atis.train.pkl')\n",
        "test_ds, _ = load_ds('atis.test.pkl')"
      ]
    },
    {
      "cell_type": "code",
      "execution_count": 4,
      "metadata": {
        "id": "4pQihnEK5bFd"
      },
      "outputs": [],
      "source": [
        "t2i, s2i, in2i = map(dicts.get, ['token_ids', 'slot_ids', 'intent_ids'])\n",
        "i2t, i2s, i2in = map(lambda d: {d[k]: k for k in d.keys()}, [t2i, s2i, in2i])\n",
        "query, slots, intent = map(train_ds.get,\n",
        "                           ['query', 'slot_labels', 'intent_labels'])"
      ]
    },
    {
      "cell_type": "code",
      "execution_count": 5,
      "metadata": {
        "id": "fQlUy0eLM_oy"
      },
      "outputs": [],
      "source": [
        "t2i_test, s2i_test, in2i_test = map(dicts.get, ['token_ids', 'slot_ids', 'intent_ids'])\n",
        "i2t_test, i2s_test, i2in_test = map(lambda d: {d[k]: k for k in d.keys()}, [t2i_test, s2i_test, in2i_test])\n",
        "query_test, slots_test, intent_test = map(test_ds.get,\n",
        "                           ['query', 'slot_labels', 'intent_labels'])"
      ]
    },
    {
      "cell_type": "markdown",
      "metadata": {
        "id": "VLw9Xdc0Q3Xv"
      },
      "source": [
        "## REMOVE WORDS FROM 'OTHER' SLOT CATEGORY"
      ]
    },
    {
      "cell_type": "markdown",
      "metadata": {
        "id": "HUiIytvtQ3Xw"
      },
      "source": [
        "## GENERATE X AND Y PAIRING"
      ]
    },
    {
      "cell_type": "code",
      "execution_count": 6,
      "metadata": {
        "colab": {
          "base_uri": "https://localhost:8080/"
        },
        "id": "xV1f8j11GWHP",
        "outputId": "e4bf5f27-096c-457d-fe2c-ed3ec02e28be"
      },
      "outputs": [
        {
          "name": "stdout",
          "output_type": "stream",
          "text": [
            "['i', 'want', 'to', 'fly', 'from', 'boston', 'at', '838', 'am', 'and', 'arrive', 'in', 'denver', 'at', '1110', 'in', 'the', 'morning']\n",
            "[128, 128, 128, 128, 128, 48, 128, 35, 100, 128, 128, 128, 78, 128, 14, 128, 128, 12]\n"
          ]
        }
      ],
      "source": [
        "X = query + query_test\n",
        "y = slots + slots_test\n",
        "\n",
        "x_text, y_all = [], []\n",
        "for i, k in zip(X, y):\n",
        "    tmp,tmpy = [], []\n",
        "    for j, l in zip(i, k):\n",
        "        if i2t[j] != \"EOS\" and i2t[j] != \"BOS\":\n",
        "            tmp.append(i2t[j])\n",
        "            tmpy.append(l)\n",
        "    x_text.append(tmp)\n",
        "    y_all.append(tmpy)\n",
        "print(x_text[0])\n",
        "print(y_all[0])\n"
      ]
    },
    {
      "cell_type": "code",
      "execution_count": 7,
      "metadata": {},
      "outputs": [],
      "source": [
        "a = {}\n",
        "for i in y_all:\n",
        "    for b in i:\n",
        "        if b in a.keys():\n",
        "            a[b] += 1\n",
        "        else:\n",
        "            a[b] = 1"
      ]
    },
    {
      "cell_type": "code",
      "execution_count": 8,
      "metadata": {},
      "outputs": [],
      "source": [
        "new_y, new_label = [], []\n",
        "for i in range(len(y_all)):\n",
        "    tmp = [128 if a[x] < 50 else x for x in y_all[i]]\n",
        "    tmpLabel = ['O' if a[x] < 50 else i2s[x] for x in y_all[i]]\n",
        "    new_y.append(tmp)\n",
        "    new_label.append(tmpLabel)"
      ]
    },
    {
      "cell_type": "code",
      "execution_count": 9,
      "metadata": {},
      "outputs": [
        {
          "data": {
            "text/plain": [
              "56"
            ]
          },
          "execution_count": 9,
          "metadata": {},
          "output_type": "execute_result"
        }
      ],
      "source": [
        "b = set()\n",
        "for i in new_label:\n",
        "    for j in i:\n",
        "        b.add(j)\n",
        "len(b)"
      ]
    },
    {
      "cell_type": "code",
      "execution_count": 10,
      "metadata": {
        "id": "LvJWQmDIFpO5"
      },
      "outputs": [],
      "source": [
        "def new_vocab(X, b):\n",
        "    all_text = \" \".join([\" \".join(x) for x in X])\n",
        "    vocab = sorted(set(all_text))\n",
        "    \n",
        "    # create character/id and label/id mapping\n",
        "    char2idx = {u:i+1 for i, u in enumerate(vocab)}\n",
        "    label2idx = {u:i+1 for i, u in enumerate(b)}\n",
        "    idx2label = {i+1:u for i, u in enumerate(b)}\n",
        "    return char2idx, label2idx, idx2label"
      ]
    },
    {
      "cell_type": "code",
      "execution_count": 11,
      "metadata": {
        "id": "S8XkwkUSQ3Xy"
      },
      "outputs": [],
      "source": [
        "c2i, l2i, i2l = new_vocab(x_text,b)"
      ]
    },
    {
      "cell_type": "code",
      "execution_count": 12,
      "metadata": {
        "id": "PWzRKh7RQ3Xy"
      },
      "outputs": [],
      "source": [
        "def split_char_labels(eg):\n",
        "    '''\n",
        "    For a given input/output example, break tokens into characters while keeping \n",
        "    the same label.\n",
        "    '''\n",
        "    tokens = eg[0]\n",
        "    labels = eg[1]\n",
        "    \n",
        "    input_chars = []\n",
        "    output_char_labels = []\n",
        "\n",
        "    for token,label in zip(tokens,labels):\n",
        "        input_chars.extend([char for char in token])\n",
        "        input_chars.extend(' ')\n",
        "        output_char_labels.extend([label]*len(token))\n",
        "        output_char_labels.append(129)\n",
        "\n",
        "    return [[c2i[x] for x in input_chars[:-1]],np.array([x for x in output_char_labels[:-1]])]"
      ]
    },
    {
      "cell_type": "code",
      "execution_count": 13,
      "metadata": {
        "id": "XeJ502ibQ3Xz"
      },
      "outputs": [],
      "source": [
        "#formatted = [split_char_labels(eg) for eg in zip(x_text, y_all)]"
      ]
    },
    {
      "cell_type": "code",
      "execution_count": 64,
      "metadata": {},
      "outputs": [],
      "source": [
        "X = []\n",
        "Y = []\n",
        "for i in range(len(x_text)):\n",
        "    tmp = [t2i[x] for x, y in zip(x_text[i], new_y[i])]\n",
        "    tmp2 = [l2i[i2s[x]] for x in new_y[i]]\n",
        "    X.append(tmp)\n",
        "    Y.append(tmp2)\n",
        "y = Y"
      ]
    },
    {
      "cell_type": "markdown",
      "metadata": {
        "id": "cLTPXfpNQ3Xz"
      },
      "source": [
        "## HYPERPARAMETERS"
      ]
    },
    {
      "cell_type": "code",
      "execution_count": 408,
      "metadata": {
        "id": "b1PzQT5vNxNe"
      },
      "outputs": [],
      "source": [
        "BATCH_SIZE = 64\n",
        "EMBEDDING_DIM = 128\n",
        "UNITS = 128\n",
        "EPOCHS= 4\n",
        "LABEL = len(i2l)+1\n",
        "VOCABULARY = len(dicts['token_ids'])+1\n",
        "INPUT_LENGTH = 42\n",
        "INPUT_DIM = len(x_text)+1\n",
        "OUTPUT_DIM=64"
      ]
    },
    {
      "cell_type": "markdown",
      "metadata": {
        "id": "KYXtkLK9Q3X0"
      },
      "source": [
        "## DATASET PADDING AND SHUFFLING"
      ]
    },
    {
      "cell_type": "code",
      "execution_count": 409,
      "metadata": {
        "id": "OlgX3YuRQ3X0"
      },
      "outputs": [],
      "source": [
        "X_train, X_test, y_train, y_test = train_test_split(X, y, test_size=0.2, random_state=42)"
      ]
    },
    {
      "cell_type": "code",
      "execution_count": 410,
      "metadata": {},
      "outputs": [],
      "source": [
        "newX_train, newY_train  = [], []\n",
        "for i in range(len(X_train)):\n",
        "    j = len(y_train[i]) - 1\n",
        "    #print(i, j)\n",
        "    while(y_train[i][j] == 4 and j > 0):\n",
        "        j -= 1\n",
        "    if j != 0:\n",
        "        newX_train.append(X_train[i][:j+1])\n",
        "        newY_train.append(y_train[i][:j+1])"
      ]
    },
    {
      "cell_type": "code",
      "execution_count": 411,
      "metadata": {
        "id": "dHy--fKFQ3X0"
      },
      "outputs": [],
      "source": [
        "#X = [x for x,y in formatted]\n",
        "#y = [y for x,y in formatted]\n",
        "X_train = pad_sequences(newX_train, padding='post', maxlen=42)\n",
        "y_train = pad_sequences(newY_train, padding='post', maxlen=42)\n",
        "X_test = pad_sequences(X_test, padding='post', maxlen=42)\n",
        "y_test = pad_sequences(y_test, padding='post', maxlen=42)\n",
        "y_test = [to_categorical(i, num_classes=LABEL) for i in y_test]\n",
        "y_train = [to_categorical(i, num_classes=LABEL) for i in y_train]"
      ]
    },
    {
      "cell_type": "markdown",
      "metadata": {
        "id": "4_laBnDFQ3X0"
      },
      "source": [
        "## MODEL DEFINITION AND COMPILING"
      ]
    },
    {
      "cell_type": "code",
      "execution_count": 412,
      "metadata": {
        "colab": {
          "base_uri": "https://localhost:8080/"
        },
        "id": "FCEy2gZDmwRp",
        "outputId": "d89c02b8-8130-42a0-be68-a6fe5272d51e"
      },
      "outputs": [
        {
          "name": "stdout",
          "output_type": "stream",
          "text": [
            "Model: \"sequential_28\"\n",
            "_________________________________________________________________\n",
            "Layer (type)                 Output Shape              Param #   \n",
            "=================================================================\n",
            "embedding_28 (Embedding)     (None, 42, 128)           751616    \n",
            "_________________________________________________________________\n",
            "bidirectional_23 (Bidirectio (None, 42, 256)           198144    \n",
            "_________________________________________________________________\n",
            "gru_31 (GRU)                 (None, 42, 128)           148224    \n",
            "_________________________________________________________________\n",
            "time_distributed_25 (TimeDis (None, 42, 57)            7353      \n",
            "=================================================================\n",
            "Total params: 1,105,337\n",
            "Trainable params: 1,105,337\n",
            "Non-trainable params: 0\n",
            "_________________________________________________________________\n"
          ]
        }
      ],
      "source": [
        "model = Sequential()\n",
        "model.add(Embedding(input_dim=INPUT_DIM, output_dim=UNITS, input_length=INPUT_LENGTH))\n",
        "model.add(Bidirectional(GRU(units=UNITS, return_sequences=True, dropout=0.3, recurrent_dropout=0.3), merge_mode = 'concat'))\n",
        "#model.add(GRU(units=UNITS, return_sequences=True, dropout=0.5, recurrent_dropout=0.5))\n",
        "model.add(GRU(units=UNITS, return_sequences=True, dropout=0.5, recurrent_dropout=0.5))\n",
        "model.add(TimeDistributed(Dense(LABEL, activation=\"relu\")))\n",
        "model.summary()"
      ]
    },
    {
      "cell_type": "code",
      "execution_count": 413,
      "metadata": {
        "id": "YmB10gzo0U2h"
      },
      "outputs": [],
      "source": [
        "model.compile(loss='categorical_crossentropy', optimizer='adam', metrics=['accuracy'])"
      ]
    },
    {
      "cell_type": "code",
      "execution_count": 414,
      "metadata": {
        "colab": {
          "base_uri": "https://localhost:8080/"
        },
        "id": "2ZgWVCO0nH3F",
        "outputId": "0ffb4db2-9e01-40b3-db35-5163c16a3b43"
      },
      "outputs": [
        {
          "name": "stdout",
          "output_type": "stream",
          "text": [
            "Epoch 1/4\n",
            "58/58 [==============================] - 41s 714ms/step - loss: 1.1196 - accuracy: 0.8409 - val_loss: 0.6893 - val_accuracy: 0.8808\n",
            "Epoch 2/4\n",
            "58/58 [==============================] - 39s 679ms/step - loss: 0.6042 - accuracy: 0.8974 - val_loss: 0.4670 - val_accuracy: 0.9034\n",
            "Epoch 3/4\n",
            "58/58 [==============================] - 40s 687ms/step - loss: 0.4602 - accuracy: 0.9055 - val_loss: 0.3732 - val_accuracy: 0.9122\n",
            "Epoch 4/4\n",
            "58/58 [==============================] - 39s 677ms/step - loss: 0.3751 - accuracy: 0.9145 - val_loss: 0.3173 - val_accuracy: 0.9215\n"
          ]
        }
      ],
      "source": [
        "hist = model.fit(X_train, np.array(y_train), batch_size=BATCH_SIZE, verbose=1, epochs=EPOCHS, validation_split=0.2)"
      ]
    },
    {
      "cell_type": "code",
      "execution_count": 415,
      "metadata": {
        "colab": {
          "base_uri": "https://localhost:8080/"
        },
        "id": "lrjo8xRYQ3X2",
        "outputId": "5d35e256-6aa1-41bf-cc30-433ba93853c4"
      },
      "outputs": [
        {
          "name": "stdout",
          "output_type": "stream",
          "text": [
            "37/37 [==============================] - 4s 110ms/step - loss: 0.3201 - accuracy: 0.9209\n",
            "Test loss: 0.32011938095092773 / Test accuracy: 0.9209321141242981\n"
          ]
        }
      ],
      "source": [
        "score = model.evaluate(X_test, np.array(y_test), verbose=1)\n",
        "print(f'Test loss: {score[0]} / Test accuracy: {score[1]}')"
      ]
    },
    {
      "cell_type": "code",
      "execution_count": 416,
      "metadata": {},
      "outputs": [],
      "source": [
        "def evaluate_model(model, X_test, y_test):\n",
        "    Y_pred = model.predict(X_test)\n",
        "    \n",
        "    Y_pred_max = tf.argmax(tf.nn.softmax(Y_pred), -1).numpy().flatten()\n",
        "    y_test_max =tf.argmax(y_test, axis=-1).numpy().flatten()\n",
        "    y_no_pad = [(p,y) for p,y in zip(Y_pred_max, y_test_max) if y != 0]\n",
        "    pred = [x[0] for x in y_no_pad]\n",
        "    true = [x[1] for x in y_no_pad]\n",
        "\n",
        "    sns.heatmap(confusion_matrix(pred, true), annot=True, vmax=100)\n",
        "\n",
        "    print(classification_report(pred, true, zero_division=False))"
      ]
    },
    {
      "cell_type": "code",
      "execution_count": 417,
      "metadata": {},
      "outputs": [
        {
          "name": "stdout",
          "output_type": "stream",
          "text": [
            "              precision    recall  f1-score   support\n",
            "\n",
            "           0       0.00      0.00      0.00       101\n",
            "           1       0.00      0.00      0.00         0\n",
            "           2       0.31      0.94      0.46        52\n",
            "           3       0.24      0.92      0.38        26\n",
            "           4       0.97      0.72      0.83     11303\n",
            "           5       0.00      0.00      0.00         0\n",
            "           6       0.06      0.83      0.11         6\n",
            "           7       0.00      0.00      0.00         0\n",
            "           8       0.21      0.56      0.31        27\n",
            "           9       0.33      1.00      0.50         2\n",
            "          10       0.00      0.00      0.00         0\n",
            "          11       0.36      0.79      0.49       106\n",
            "          12       0.00      0.00      0.00         0\n",
            "          13       0.06      0.83      0.12         6\n",
            "          14       0.00      0.00      0.00         0\n",
            "          15       0.61      0.58      0.59      1093\n",
            "          16       0.12      0.72      0.21        46\n",
            "          17       0.08      0.33      0.12         6\n",
            "          18       0.04      1.00      0.07         1\n",
            "          19       0.00      0.00      0.00         0\n",
            "          20       0.27      0.56      0.37        41\n",
            "          21       0.41      0.57      0.48        63\n",
            "          22       0.00      0.00      0.00         0\n",
            "          23       0.00      0.00      0.00         0\n",
            "          24       0.00      0.00      0.00         2\n",
            "          25       0.00      0.00      0.00         0\n",
            "          26       0.00      0.00      0.00         0\n",
            "          27       0.16      0.30      0.21        23\n",
            "          28       0.00      0.00      0.00         0\n",
            "          29       0.00      0.00      0.00         0\n",
            "          30       0.00      0.00      0.00         0\n",
            "          31       0.00      0.00      0.00         0\n",
            "          32       0.00      0.00      0.00         0\n",
            "          33       0.08      1.00      0.15        12\n",
            "          34       0.00      0.00      0.00         1\n",
            "          35       0.00      0.00      0.00         0\n",
            "          36       0.00      0.00      0.00         0\n",
            "          37       0.01      1.00      0.01         1\n",
            "          38       0.00      0.00      0.00         0\n",
            "          39       0.00      0.00      0.00         0\n",
            "          40       0.71      1.00      0.83         5\n",
            "          41       0.00      0.00      0.00         0\n",
            "          42       0.00      0.00      0.00         0\n",
            "          43       0.00      0.00      0.00         0\n",
            "          44       0.00      0.00      0.00         0\n",
            "          45       0.00      0.00      0.00         0\n",
            "          46       0.00      0.00      0.00         0\n",
            "          47       0.26      0.82      0.40        11\n",
            "          48       0.26      0.62      0.37        37\n",
            "          49       0.00      0.00      0.00         0\n",
            "          50       0.00      0.00      0.00         0\n",
            "          51       0.00      0.00      0.00         0\n",
            "          52       0.00      0.00      0.00         0\n",
            "          53       0.01      0.60      0.01        10\n",
            "          54       0.00      0.00      0.00         0\n",
            "          55       0.00      0.00      0.00         0\n",
            "          56       0.00      0.00      0.00         0\n",
            "\n",
            "    accuracy                           0.70     12981\n",
            "   macro avg       0.10      0.28      0.12     12981\n",
            "weighted avg       0.91      0.70      0.78     12981\n",
            "\n"
          ]
        },
        {
          "data": {
            "image/png": "[encoded data removed]",
            "text/plain": [
              "<Figure size 432x288 with 2 Axes>"
            ]
          },
          "metadata": {
            "needs_background": "light"
          },
          "output_type": "display_data"
        }
      ],
      "source": [
        "evaluate_model(model, X_test, y_test)"
      ]
    }
  ],
  "metadata": {
    "accelerator": "GPU",
    "colab": {
      "collapsed_sections": [],
      "include_colab_link": true,
      "name": "ATIS_extraction.ipynb",
      "provenance": []
    },
    "interpreter": {
      "hash": "d1ec9569468ba31803cd4d4826401972858a08fd18dade65c2ce339ee0def777"
    },
    "kernelspec": {
      "display_name": "Python 3.9.0 64-bit",
      "name": "python3"
    },
    "language_info": {
      "codemirror_mode": {
        "name": "ipython",
        "version": 3
      },
      "file_extension": ".py",
      "mimetype": "text/x-python",
      "name": "python",
      "nbconvert_exporter": "python",
      "pygments_lexer": "ipython3",
      "version": "3.8.8"
    }
  },
  "nbformat": 4,
  "nbformat_minor": 0
}
