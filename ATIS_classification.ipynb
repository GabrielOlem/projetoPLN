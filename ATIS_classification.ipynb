{
  "nbformat": 4,
  "nbformat_minor": 0,
  "metadata": {
    "accelerator": "GPU",
    "colab": {
      "name": "text_classification.ipynb",
      "provenance": [],
      "collapsed_sections": [],
      "include_colab_link": true
    },
    "interpreter": {
      "hash": "d1ec9569468ba31803cd4d4826401972858a08fd18dade65c2ce339ee0def777"
    },
    "kernelspec": {
      "display_name": "Python 3.9.0 64-bit",
      "name": "python3"
    },
    "language_info": {
      "codemirror_mode": {
        "name": "ipython",
        "version": 3
      },
      "file_extension": ".py",
      "mimetype": "text/x-python",
      "name": "python",
      "nbconvert_exporter": "python",
      "pygments_lexer": "ipython3",
      "version": "3.9.0"
    }
  },
  "cells": [
    {
      "cell_type": "markdown",
      "metadata": {
        "id": "view-in-github",
        "colab_type": "text"
      },
      "source": [
        "<a href=\"https://colab.research.google.com/github/GabrielOlem/projetoPLN/blob/main/ATIS_classification.ipynb\" target=\"_parent\"><img src=\"https://colab.research.google.com/assets/colab-badge.svg\" alt=\"Open In Colab\"/></a>"
      ]
    },
    {
      "cell_type": "markdown",
      "metadata": {
        "id": "kBtCVIF560zz"
      },
      "source": [
        "## IMPORTS"
      ]
    },
    {
      "cell_type": "code",
      "metadata": {
        "id": "8RZOuS9LWQvv"
      },
      "source": [
        "import os\n",
        "import pickle\n",
        "import tensorflow as tf\n",
        "import seaborn as sns\n",
        "import matplotlib.pyplot as plt\n",
        "from sklearn.model_selection import train_test_split\n",
        "from tensorflow.keras.layers import Dense, Dropout, LSTM, Embedding, SimpleRNN, GRU\n",
        "from tensorflow.keras.models import Sequential\n",
        "from tensorflow.keras.preprocessing.sequence import pad_sequences\n",
        "from sklearn.metrics import classification_report, confusion_matrix"
      ],
      "execution_count": 2,
      "outputs": []
    },
    {
      "cell_type": "markdown",
      "metadata": {
        "id": "MlhQBWvJ60z4"
      },
      "source": [
        "## LOAD DATASET AND GET TOKENS, SLOTS AND INTENTS, AND THEIR INDEXES"
      ]
    },
    {
      "cell_type": "code",
      "metadata": {
        "id": "-yil7RAs60z4"
      },
      "source": [
        "def load_ds(fname):\n",
        "    fname = os.path.join(fname)\n",
        "    with open(fname, 'rb') as stream:\n",
        "        ds, dicts = pickle.load(stream)\n",
        "    print('Done  loading: ', fname)\n",
        "    print('      samples: {:4d}'.format(len(ds['query'])))\n",
        "    print('   vocab_size: {:4d}'.format(len(dicts['token_ids'])))\n",
        "    print('   slot count: {:4d}'.format(len(dicts['slot_ids'])))\n",
        "    print(' intent count: {:4d}'.format(len(dicts['intent_ids'])))\n",
        "    return ds, dicts"
      ],
      "execution_count": 3,
      "outputs": []
    },
    {
      "cell_type": "code",
      "metadata": {
        "colab": {
          "base_uri": "https://localhost:8080/"
        },
        "id": "b9Z7t_pA5Jv1",
        "outputId": "e09336eb-ef1a-4ccf-ed8c-f18a7722f597"
      },
      "source": [
        "train_ds, dicts = load_ds('atis.train.pkl')\n",
        "test_ds, _ = load_ds('atis.test.pkl')"
      ],
      "execution_count": 6,
      "outputs": [
        {
          "output_type": "stream",
          "name": "stdout",
          "text": [
            "Done  loading:  atis.train.pkl\n",
            "      samples: 4978\n",
            "   vocab_size:  943\n",
            "   slot count:  129\n",
            " intent count:   26\n",
            "Done  loading:  atis.test.pkl\n",
            "      samples:  893\n",
            "   vocab_size:  943\n",
            "   slot count:  129\n",
            " intent count:   26\n"
          ]
        }
      ]
    },
    {
      "cell_type": "code",
      "metadata": {
        "id": "4pQihnEK5bFd"
      },
      "source": [
        "t2i, s2i, in2i = map(dicts.get, ['token_ids', 'slot_ids', 'intent_ids'])\n",
        "i2t, i2s, i2in = map(lambda d: {d[k]: k for k in d.keys()}, [t2i, s2i, in2i])\n",
        "query, slots, intent = map(train_ds.get,\n",
        "                           ['query', 'slot_labels', 'intent_labels'])"
      ],
      "execution_count": 7,
      "outputs": []
    },
    {
      "cell_type": "code",
      "metadata": {
        "id": "fQlUy0eLM_oy"
      },
      "source": [
        "t2i_test, s2i_test, in2i_test = map(dicts.get, ['token_ids', 'slot_ids', 'intent_ids'])\n",
        "i2t_test, i2s_test, i2in_test = map(lambda d: {d[k]: k for k in d.keys()}, [t2i_test, s2i_test, in2i_test])\n",
        "query_test, slots_test, intent_test = map(test_ds.get,\n",
        "                           ['query', 'slot_labels', 'intent_labels'])"
      ],
      "execution_count": 8,
      "outputs": []
    },
    {
      "cell_type": "markdown",
      "metadata": {
        "id": "F3LE-_2F60z7"
      },
      "source": [
        "## FORMAT TRAIN AND TEST DATASETS"
      ]
    },
    {
      "cell_type": "code",
      "metadata": {
        "id": "GnlC4nMZ60z7"
      },
      "source": [
        "query_complete = query + query_test\n",
        "intent_complete = intent + intent_test # TURN INTO A SINGLE DATASET\n",
        "padded_x = pad_sequences(query_complete) # PAD QUERIES FOR UNIFORMIZATION\n",
        "y = tf.keras.utils.to_categorical(intent_complete) # TURN Y FROM CATEGORICAL TO ONE_HOT_ENCODING"
      ],
      "execution_count": 9,
      "outputs": []
    },
    {
      "cell_type": "code",
      "metadata": {
        "id": "xcPCRu7k60z8"
      },
      "source": [
        "X_train, X_test, y_train, y_test = train_test_split(padded_x, y, test_size=0.2, random_state=42)"
      ],
      "execution_count": 10,
      "outputs": []
    },
    {
      "cell_type": "markdown",
      "metadata": {
        "id": "6GcAkd9360z8"
      },
      "source": [
        "## HYPERPARAMETERS"
      ]
    },
    {
      "cell_type": "code",
      "metadata": {
        "id": "t8D4P9qT60z9"
      },
      "source": [
        "INPUT_LENGTH = 48\n",
        "EMBEDDING_SIZE = 100\n",
        "UNITS = 128\n",
        "DROPOUT = 0.2\n",
        "### Training parameters\n",
        "LOSS = \"categorical_crossentropy\"\n",
        "OPTIMIZER = \"adam\"\n",
        "BATCH_SIZE = 32\n",
        "EPOCHS = 8\n",
        "LABELS = 26\n",
        "EMBEDDING_DIMS = len(dicts['token_ids'])+1"
      ],
      "execution_count": 11,
      "outputs": []
    },
    {
      "cell_type": "markdown",
      "metadata": {
        "id": "PM91ceaB60z9"
      },
      "source": [
        "## FUNCTION THAT CREATES THE MODEL"
      ]
    },
    {
      "cell_type": "code",
      "metadata": {
        "id": "iyJKeHZs60z9"
      },
      "source": [
        "def create_model(type, embedding_dims, embedding_size, input_length, units, dropout, labels):\n",
        "    model = Sequential()\n",
        "    model.add(Embedding(embedding_dims, embedding_size, input_length=input_length))\n",
        "    model.add(type(units, return_sequences=True)) #p/ mais de uma camada\n",
        "    model.add(Dropout(dropout))\n",
        "    model.add(type(units,return_sequences=False))\n",
        "    model.add(Dropout(dropout))\n",
        "    model.add(Dense(labels, activation='softmax'))\n",
        "    return model"
      ],
      "execution_count": 12,
      "outputs": []
    },
    {
      "cell_type": "markdown",
      "metadata": {
        "id": "tfsDO1mt60z-"
      },
      "source": [
        "## FUNCTION THAT EVALUATES THE MODEL AND GENERATES THE CONFUSION MATRIX"
      ]
    },
    {
      "cell_type": "code",
      "metadata": {
        "id": "mAnYG85z60z-"
      },
      "source": [
        "def evaluate_model(model, X_test, y_test):\n",
        "    Y_pred = model.predict(X_test)\n",
        "    \n",
        "    Y_pred_max = tf.argmax(tf.nn.softmax(Y_pred), -1).numpy().flatten()\n",
        "    y_test_max =tf.argmax(y_test, axis=-1).numpy().flatten()\n",
        "    y_no_pad = [(p,y) for p,y in zip(Y_pred_max, y_test_max) if y != 0]\n",
        "    pred = [x[0] for x in y_no_pad]\n",
        "    true = [x[1] for x in y_no_pad]\n",
        "\n",
        "    fig, ax = plt.subplots(figsize=(10,10))\n",
        "    sns.heatmap(confusion_matrix(pred, true), annot=True, vmax=100, ax=ax)\n",
        "\n",
        "    print(classification_report(pred, true, zero_division=False))"
      ],
      "execution_count": 13,
      "outputs": []
    },
    {
      "cell_type": "markdown",
      "metadata": {
        "id": "sSaZeA1r60z_"
      },
      "source": [
        "## MODEL CREATION AND COMPILING\n",
        "Here we compare 3 different models: LSTM, RNN and GRU"
      ]
    },
    {
      "cell_type": "markdown",
      "metadata": {
        "id": "rlygD9xt60z_"
      },
      "source": [
        "## LSTM"
      ]
    },
    {
      "cell_type": "code",
      "metadata": {
        "id": "Jo55WIjk60z_",
        "outputId": "58d3cb9a-7f11-46af-872c-48e76b57f45f",
        "colab": {
          "base_uri": "https://localhost:8080/"
        }
      },
      "source": [
        "model_LSTM = create_model(LSTM, EMBEDDING_DIMS, EMBEDDING_SIZE, INPUT_LENGTH, UNITS, DROPOUT, LABELS)\n",
        "model_LSTM.compile(optimizer=OPTIMIZER, loss=LOSS, metrics=[\"accuracy\"])\n",
        "model_LSTM.summary()"
      ],
      "execution_count": 14,
      "outputs": [
        {
          "output_type": "stream",
          "name": "stdout",
          "text": [
            "Model: \"sequential\"\n",
            "_________________________________________________________________\n",
            " Layer (type)                Output Shape              Param #   \n",
            "=================================================================\n",
            " embedding (Embedding)       (None, 48, 100)           94400     \n",
            "                                                                 \n",
            " lstm (LSTM)                 (None, 48, 128)           117248    \n",
            "                                                                 \n",
            " dropout (Dropout)           (None, 48, 128)           0         \n",
            "                                                                 \n",
            " lstm_1 (LSTM)               (None, 128)               131584    \n",
            "                                                                 \n",
            " dropout_1 (Dropout)         (None, 128)               0         \n",
            "                                                                 \n",
            " dense (Dense)               (None, 26)                3354      \n",
            "                                                                 \n",
            "=================================================================\n",
            "Total params: 346,586\n",
            "Trainable params: 346,586\n",
            "Non-trainable params: 0\n",
            "_________________________________________________________________\n"
          ]
        }
      ]
    },
    {
      "cell_type": "code",
      "metadata": {
        "id": "OTmdkH6p60z_",
        "outputId": "3b894adf-c424-4b51-d906-922325f58707",
        "colab": {
          "base_uri": "https://localhost:8080/"
        }
      },
      "source": [
        "history = model_LSTM.fit(X_train, y_train, batch_size = BATCH_SIZE, epochs=EPOCHS,validation_split=0.15,verbose=2)"
      ],
      "execution_count": 15,
      "outputs": [
        {
          "output_type": "stream",
          "name": "stdout",
          "text": [
            "Epoch 1/8\n",
            "125/125 - 13s - loss: 1.3462 - accuracy: 0.7201 - val_loss: 1.0954 - val_accuracy: 0.7518 - 13s/epoch - 104ms/step\n",
            "Epoch 2/8\n",
            "125/125 - 3s - loss: 1.1999 - accuracy: 0.7269 - val_loss: 0.8764 - val_accuracy: 0.7801 - 3s/epoch - 27ms/step\n",
            "Epoch 3/8\n",
            "125/125 - 3s - loss: 0.7471 - accuracy: 0.8056 - val_loss: 0.5298 - val_accuracy: 0.8596 - 3s/epoch - 27ms/step\n",
            "Epoch 4/8\n",
            "125/125 - 3s - loss: 0.4766 - accuracy: 0.8717 - val_loss: 0.3791 - val_accuracy: 0.9007 - 3s/epoch - 27ms/step\n",
            "Epoch 5/8\n",
            "125/125 - 3s - loss: 0.3589 - accuracy: 0.8990 - val_loss: 0.2888 - val_accuracy: 0.9220 - 3s/epoch - 26ms/step\n",
            "Epoch 6/8\n",
            "125/125 - 3s - loss: 0.2362 - accuracy: 0.9339 - val_loss: 0.2359 - val_accuracy: 0.9433 - 3s/epoch - 26ms/step\n",
            "Epoch 7/8\n",
            "125/125 - 3s - loss: 0.1787 - accuracy: 0.9514 - val_loss: 0.2365 - val_accuracy: 0.9433 - 3s/epoch - 26ms/step\n",
            "Epoch 8/8\n",
            "125/125 - 3s - loss: 0.1311 - accuracy: 0.9682 - val_loss: 0.2204 - val_accuracy: 0.9475 - 3s/epoch - 26ms/step\n"
          ]
        }
      ]
    },
    {
      "cell_type": "code",
      "metadata": {
        "id": "z4HX3eDu600A",
        "outputId": "57683d45-9edf-4a8c-943e-4ba00a80ec39",
        "colab": {
          "base_uri": "https://localhost:8080/",
          "height": 1000
        }
      },
      "source": [
        "evaluate_model(model_LSTM, X_test, y_test)"
      ],
      "execution_count": 16,
      "outputs": [
        {
          "output_type": "stream",
          "name": "stdout",
          "text": [
            "              precision    recall  f1-score   support\n",
            "\n",
            "           0       0.00      0.00      0.00         3\n",
            "           1       0.93      0.93      0.93        15\n",
            "           2       0.00      0.00      0.00         0\n",
            "           3       0.98      0.93      0.95       100\n",
            "           4       0.00      0.00      0.00         0\n",
            "           6       1.00      0.94      0.97        49\n",
            "           8       0.71      0.56      0.63         9\n",
            "           9       0.50      1.00      0.67         5\n",
            "          11       0.00      0.00      0.00         0\n",
            "          13       1.00      0.24      0.38        17\n",
            "          14       0.98      0.99      0.99       863\n",
            "          15       0.80      0.36      0.50        11\n",
            "          17       0.00      0.00      0.00         0\n",
            "          19       0.75      0.50      0.60        12\n",
            "          20       0.60      1.00      0.75         3\n",
            "          21       0.96      0.96      0.96        48\n",
            "          23       0.00      0.00      0.00         0\n",
            "          24       0.65      0.92      0.76        12\n",
            "          25       0.00      0.00      0.00         0\n",
            "\n",
            "    accuracy                           0.95      1147\n",
            "   macro avg       0.52      0.49      0.48      1147\n",
            "weighted avg       0.97      0.95      0.95      1147\n",
            "\n"
          ]
        },
        {
          "output_type": "display_data",
          "data": {
            "image/png": "[encoded data removed]",
            "text/plain": [
              "<Figure size 720x720 with 2 Axes>"
            ]
          },
          "metadata": {
            "needs_background": "light"
          }
        }
      ]
    },
    {
      "cell_type": "markdown",
      "metadata": {
        "id": "A7rgKq0x600A"
      },
      "source": [
        "## RNN MODEL"
      ]
    },
    {
      "cell_type": "code",
      "metadata": {
        "id": "t_-vqQBh600A",
        "outputId": "944ad681-6628-4241-c771-728c4126b15f",
        "colab": {
          "base_uri": "https://localhost:8080/"
        }
      },
      "source": [
        "model_SimpleRNN = create_model(SimpleRNN, EMBEDDING_DIMS, EMBEDDING_SIZE, INPUT_LENGTH, UNITS, DROPOUT, LABELS)\n",
        "model_SimpleRNN.compile(optimizer=OPTIMIZER, loss=LOSS, metrics=[\"accuracy\"])\n",
        "model_SimpleRNN.summary()"
      ],
      "execution_count": 17,
      "outputs": [
        {
          "output_type": "stream",
          "name": "stdout",
          "text": [
            "Model: \"sequential_1\"\n",
            "_________________________________________________________________\n",
            " Layer (type)                Output Shape              Param #   \n",
            "=================================================================\n",
            " embedding_1 (Embedding)     (None, 48, 100)           94400     \n",
            "                                                                 \n",
            " simple_rnn (SimpleRNN)      (None, 48, 128)           29312     \n",
            "                                                                 \n",
            " dropout_2 (Dropout)         (None, 48, 128)           0         \n",
            "                                                                 \n",
            " simple_rnn_1 (SimpleRNN)    (None, 128)               32896     \n",
            "                                                                 \n",
            " dropout_3 (Dropout)         (None, 128)               0         \n",
            "                                                                 \n",
            " dense_1 (Dense)             (None, 26)                3354      \n",
            "                                                                 \n",
            "=================================================================\n",
            "Total params: 159,962\n",
            "Trainable params: 159,962\n",
            "Non-trainable params: 0\n",
            "_________________________________________________________________\n"
          ]
        }
      ]
    },
    {
      "cell_type": "code",
      "metadata": {
        "id": "USUivrhB600B",
        "outputId": "e2be2b24-af40-4919-e42a-63f5411f3c22",
        "colab": {
          "base_uri": "https://localhost:8080/"
        }
      },
      "source": [
        "history = model_SimpleRNN.fit(X_train, y_train, batch_size = BATCH_SIZE, epochs=EPOCHS,validation_split=0.15,verbose=2)"
      ],
      "execution_count": 18,
      "outputs": [
        {
          "output_type": "stream",
          "name": "stdout",
          "text": [
            "Epoch 1/8\n",
            "125/125 - 18s - loss: 1.5741 - accuracy: 0.6788 - val_loss: 1.1121 - val_accuracy: 0.7518 - 18s/epoch - 142ms/step\n",
            "Epoch 2/8\n",
            "125/125 - 16s - loss: 1.2439 - accuracy: 0.7246 - val_loss: 1.1032 - val_accuracy: 0.7518 - 16s/epoch - 126ms/step\n",
            "Epoch 3/8\n",
            "125/125 - 15s - loss: 1.0245 - accuracy: 0.7537 - val_loss: 0.7149 - val_accuracy: 0.8128 - 15s/epoch - 123ms/step\n",
            "Epoch 4/8\n",
            "125/125 - 15s - loss: 0.7209 - accuracy: 0.8261 - val_loss: 0.5738 - val_accuracy: 0.8553 - 15s/epoch - 123ms/step\n",
            "Epoch 5/8\n",
            "125/125 - 15s - loss: 0.5660 - accuracy: 0.8602 - val_loss: 0.4631 - val_accuracy: 0.8908 - 15s/epoch - 123ms/step\n",
            "Epoch 6/8\n",
            "125/125 - 15s - loss: 0.5468 - accuracy: 0.8639 - val_loss: 0.5346 - val_accuracy: 0.8766 - 15s/epoch - 123ms/step\n",
            "Epoch 7/8\n",
            "125/125 - 16s - loss: 0.4013 - accuracy: 0.8975 - val_loss: 0.4148 - val_accuracy: 0.9050 - 16s/epoch - 125ms/step\n",
            "Epoch 8/8\n",
            "125/125 - 16s - loss: 0.3498 - accuracy: 0.9105 - val_loss: 0.4612 - val_accuracy: 0.8766 - 16s/epoch - 126ms/step\n"
          ]
        }
      ]
    },
    {
      "cell_type": "code",
      "metadata": {
        "id": "-ux_eAZv600B",
        "outputId": "92fa51b9-c10f-480d-d0cc-199d180e6acb",
        "colab": {
          "base_uri": "https://localhost:8080/",
          "height": 1000
        }
      },
      "source": [
        "evaluate_model(model_SimpleRNN, X_test, y_test)"
      ],
      "execution_count": 19,
      "outputs": [
        {
          "output_type": "stream",
          "name": "stdout",
          "text": [
            "              precision    recall  f1-score   support\n",
            "\n",
            "           0       0.00      0.00      0.00         6\n",
            "           1       0.07      0.25      0.11         4\n",
            "           2       0.00      0.00      0.00         0\n",
            "           3       0.94      0.57      0.71       155\n",
            "           4       0.00      0.00      0.00         0\n",
            "           6       0.48      0.41      0.44        54\n",
            "           8       0.00      0.00      0.00         0\n",
            "           9       0.60      0.55      0.57        11\n",
            "          11       0.00      0.00      0.00         0\n",
            "          13       0.00      0.00      0.00         0\n",
            "          14       0.95      0.99      0.97       843\n",
            "          15       0.20      0.20      0.20         5\n",
            "          17       0.00      0.00      0.00         0\n",
            "          19       0.00      0.00      0.00         0\n",
            "          20       0.00      0.00      0.00         0\n",
            "          21       0.96      0.75      0.84        61\n",
            "          23       0.00      0.00      0.00         0\n",
            "          24       0.29      0.62      0.40         8\n",
            "          25       0.00      0.00      0.00         0\n",
            "\n",
            "    accuracy                           0.87      1147\n",
            "   macro avg       0.24      0.23      0.22      1147\n",
            "weighted avg       0.91      0.87      0.88      1147\n",
            "\n"
          ]
        },
        {
          "output_type": "display_data",
          "data": {
            "image/png": "[encoded data removed]",
            "text/plain": [
              "<Figure size 720x720 with 2 Axes>"
            ]
          },
          "metadata": {
            "needs_background": "light"
          }
        }
      ]
    },
    {
      "cell_type": "markdown",
      "metadata": {
        "id": "tIrAfhlX600B"
      },
      "source": [
        "## GRU MODEL"
      ]
    },
    {
      "cell_type": "code",
      "metadata": {
        "id": "XR21H1jn600B",
        "outputId": "ca0e16ab-26ad-4bf3-c7d5-a22d33f32ed6",
        "colab": {
          "base_uri": "https://localhost:8080/"
        }
      },
      "source": [
        "model_GRU = create_model(GRU, EMBEDDING_DIMS, EMBEDDING_SIZE, INPUT_LENGTH, UNITS, DROPOUT, LABELS)\n",
        "model_GRU.compile(optimizer=OPTIMIZER, loss=LOSS, metrics=[\"accuracy\"])\n",
        "model_GRU.summary()"
      ],
      "execution_count": 20,
      "outputs": [
        {
          "output_type": "stream",
          "name": "stdout",
          "text": [
            "Model: \"sequential_2\"\n",
            "_________________________________________________________________\n",
            " Layer (type)                Output Shape              Param #   \n",
            "=================================================================\n",
            " embedding_2 (Embedding)     (None, 48, 100)           94400     \n",
            "                                                                 \n",
            " gru (GRU)                   (None, 48, 128)           88320     \n",
            "                                                                 \n",
            " dropout_4 (Dropout)         (None, 48, 128)           0         \n",
            "                                                                 \n",
            " gru_1 (GRU)                 (None, 128)               99072     \n",
            "                                                                 \n",
            " dropout_5 (Dropout)         (None, 128)               0         \n",
            "                                                                 \n",
            " dense_2 (Dense)             (None, 26)                3354      \n",
            "                                                                 \n",
            "=================================================================\n",
            "Total params: 285,146\n",
            "Trainable params: 285,146\n",
            "Non-trainable params: 0\n",
            "_________________________________________________________________\n"
          ]
        }
      ]
    },
    {
      "cell_type": "code",
      "metadata": {
        "id": "54n6rv2t600C",
        "outputId": "d684b719-8c65-4ee5-d474-bd0a485313c1",
        "colab": {
          "base_uri": "https://localhost:8080/"
        }
      },
      "source": [
        "history = model_GRU.fit(X_train, y_train, batch_size = BATCH_SIZE, epochs=EPOCHS,validation_split=0.15,verbose=2)"
      ],
      "execution_count": 21,
      "outputs": [
        {
          "output_type": "stream",
          "name": "stdout",
          "text": [
            "Epoch 1/8\n",
            "125/125 - 8s - loss: 1.2140 - accuracy: 0.7304 - val_loss: 0.7114 - val_accuracy: 0.7872 - 8s/epoch - 63ms/step\n",
            "Epoch 2/8\n",
            "125/125 - 3s - loss: 0.6145 - accuracy: 0.8487 - val_loss: 0.4018 - val_accuracy: 0.8950 - 3s/epoch - 25ms/step\n",
            "Epoch 3/8\n",
            "125/125 - 3s - loss: 0.3785 - accuracy: 0.8955 - val_loss: 0.2921 - val_accuracy: 0.9248 - 3s/epoch - 25ms/step\n",
            "Epoch 4/8\n",
            "125/125 - 3s - loss: 0.2419 - accuracy: 0.9341 - val_loss: 0.2056 - val_accuracy: 0.9504 - 3s/epoch - 25ms/step\n",
            "Epoch 5/8\n",
            "125/125 - 3s - loss: 0.1442 - accuracy: 0.9617 - val_loss: 0.1835 - val_accuracy: 0.9631 - 3s/epoch - 25ms/step\n",
            "Epoch 6/8\n",
            "125/125 - 3s - loss: 0.0959 - accuracy: 0.9757 - val_loss: 0.1716 - val_accuracy: 0.9560 - 3s/epoch - 25ms/step\n",
            "Epoch 7/8\n",
            "125/125 - 3s - loss: 0.0703 - accuracy: 0.9822 - val_loss: 0.1491 - val_accuracy: 0.9631 - 3s/epoch - 25ms/step\n",
            "Epoch 8/8\n",
            "125/125 - 3s - loss: 0.0532 - accuracy: 0.9875 - val_loss: 0.1490 - val_accuracy: 0.9674 - 3s/epoch - 25ms/step\n"
          ]
        }
      ]
    },
    {
      "cell_type": "code",
      "metadata": {
        "id": "ytKDfUC1600C",
        "outputId": "64b7f40e-5719-4a93-b079-09dd052f8af9",
        "colab": {
          "base_uri": "https://localhost:8080/",
          "height": 1000
        }
      },
      "source": [
        "evaluate_model(model_GRU, X_test, y_test)"
      ],
      "execution_count": 22,
      "outputs": [
        {
          "output_type": "stream",
          "name": "stdout",
          "text": [
            "              precision    recall  f1-score   support\n",
            "\n",
            "           0       0.00      0.00      0.00         4\n",
            "           1       0.93      0.78      0.85        18\n",
            "           2       0.00      0.00      0.00         0\n",
            "           3       0.99      0.97      0.98        97\n",
            "           4       0.00      0.00      0.00         0\n",
            "           6       0.96      1.00      0.98        44\n",
            "           8       0.86      0.86      0.86         7\n",
            "           9       1.00      0.71      0.83        14\n",
            "          11       0.60      1.00      0.75         3\n",
            "          13       1.00      0.80      0.89         5\n",
            "          14       0.99      0.99      0.99       869\n",
            "          15       0.80      0.36      0.50        11\n",
            "          17       0.75      1.00      0.86         3\n",
            "          19       0.62      0.83      0.71         6\n",
            "          20       0.80      1.00      0.89         4\n",
            "          21       0.98      1.00      0.99        47\n",
            "          23       0.00      0.00      0.00         0\n",
            "          24       0.82      0.93      0.87        15\n",
            "          25       0.00      0.00      0.00         0\n",
            "\n",
            "    accuracy                           0.97      1147\n",
            "   macro avg       0.64      0.64      0.63      1147\n",
            "weighted avg       0.98      0.97      0.97      1147\n",
            "\n"
          ]
        },
        {
          "output_type": "display_data",
          "data": {
            "image/png": "[encoded data removed]",
            "text/plain": [
              "<Figure size 720x720 with 2 Axes>"
            ]
          },
          "metadata": {
            "needs_background": "light"
          }
        }
      ]
    },
    {
      "cell_type": "code",
      "metadata": {
        "id": "7L6uROv1600C"
      },
      "source": [
        ""
      ],
      "execution_count": 22,
      "outputs": []
    }
  ]
}