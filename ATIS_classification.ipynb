{
  "cells": [
    {
      "cell_type": "markdown",
      "metadata": {},
      "source": [
        "## IMPORTS"
      ]
    },
    {
      "cell_type": "code",
      "execution_count": 1,
      "metadata": {
        "id": "8RZOuS9LWQvv"
      },
      "outputs": [],
      "source": [
        "import os\n",
        "import pickle\n",
        "import tensorflow as tf\n",
        "import seaborn as sns\n",
        "import matplotlib.pyplot as plt\n",
        "from sklearn.model_selection import train_test_split\n",
        "from tensorflow.keras.layers import Dense, Dropout, LSTM, Embedding, SimpleRNN, GRU\n",
        "from tensorflow.keras.models import Sequential\n",
        "from tensorflow.keras.preprocessing.sequence import pad_sequences\n",
        "from sklearn.metrics import classification_report, confusion_matrix"
      ]
    },
    {
      "cell_type": "markdown",
      "metadata": {},
      "source": [
        "## LOAD DATASET AND GET TOKENS, SLOTS AND INTENTS, AND THEIR INDEXES"
      ]
    },
    {
      "cell_type": "code",
      "execution_count": 2,
      "metadata": {},
      "outputs": [],
      "source": [
        "def load_ds(fname):\n",
        "    fname = os.path.join(fname)\n",
        "    with open(fname, 'rb') as stream:\n",
        "        ds, dicts = pickle.load(stream)\n",
        "    print('Done  loading: ', fname)\n",
        "    print('      samples: {:4d}'.format(len(ds['query'])))\n",
        "    print('   vocab_size: {:4d}'.format(len(dicts['token_ids'])))\n",
        "    print('   slot count: {:4d}'.format(len(dicts['slot_ids'])))\n",
        "    print(' intent count: {:4d}'.format(len(dicts['intent_ids'])))\n",
        "    return ds, dicts"
      ]
    },
    {
      "cell_type": "code",
      "execution_count": 3,
      "metadata": {
        "colab": {
          "base_uri": "https://localhost:8080/"
        },
        "id": "b9Z7t_pA5Jv1",
        "outputId": "f8bbbaa6-e920-415a-a53a-8ef37e100be0"
      },
      "outputs": [
        {
          "name": "stdout",
          "output_type": "stream",
          "text": [
            "Done  loading:  atis.train.pkl\n",
            "      samples: 4978\n",
            "   vocab_size:  943\n",
            "   slot count:  129\n",
            " intent count:   26\n",
            "Done  loading:  atis.test.pkl\n",
            "      samples:  893\n",
            "   vocab_size:  943\n",
            "   slot count:  129\n",
            " intent count:   26\n"
          ]
        }
      ],
      "source": [
        "train_ds, dicts = load_ds('atis.train.pkl')\n",
        "test_ds, _ = load_ds('atis.test.pkl')"
      ]
    },
    {
      "cell_type": "code",
      "execution_count": 4,
      "metadata": {
        "id": "4pQihnEK5bFd"
      },
      "outputs": [],
      "source": [
        "t2i, s2i, in2i = map(dicts.get, ['token_ids', 'slot_ids', 'intent_ids'])\n",
        "i2t, i2s, i2in = map(lambda d: {d[k]: k for k in d.keys()}, [t2i, s2i, in2i])\n",
        "query, slots, intent = map(train_ds.get,\n",
        "                           ['query', 'slot_labels', 'intent_labels'])"
      ]
    },
    {
      "cell_type": "code",
      "execution_count": 5,
      "metadata": {
        "id": "fQlUy0eLM_oy"
      },
      "outputs": [],
      "source": [
        "t2i_test, s2i_test, in2i_test = map(dicts.get, ['token_ids', 'slot_ids', 'intent_ids'])\n",
        "i2t_test, i2s_test, i2in_test = map(lambda d: {d[k]: k for k in d.keys()}, [t2i_test, s2i_test, in2i_test])\n",
        "query_test, slots_test, intent_test = map(test_ds.get,\n",
        "                           ['query', 'slot_labels', 'intent_labels'])"
      ]
    },
    {
      "cell_type": "markdown",
      "metadata": {},
      "source": [
        "## FORMAT TRAIN AND TEST DATASETS"
      ]
    },
    {
      "cell_type": "code",
      "execution_count": 6,
      "metadata": {},
      "outputs": [],
      "source": [
        "query_complete = query + query_test\n",
        "intent_complete = intent + intent_test # TURN INTO A SINGLE DATASET\n",
        "padded_x = pad_sequences(query_complete) # PAD QUERIES FOR UNIFORMIZATION\n",
        "y = tf.keras.utils.to_categorical(intent_complete) # TURN Y FROM CATEGORICAL TO ONE_HOT_ENCODING"
      ]
    },
    {
      "cell_type": "code",
      "execution_count": 7,
      "metadata": {},
      "outputs": [],
      "source": [
        "X_train, X_test, y_train, y_test = train_test_split(padded_x, y, test_size=0.2, random_state=42)"
      ]
    },
    {
      "cell_type": "markdown",
      "metadata": {},
      "source": [
        "## HYPERPARAMETERS"
      ]
    },
    {
      "cell_type": "code",
      "execution_count": 8,
      "metadata": {},
      "outputs": [],
      "source": [
        "INPUT_LENGTH = 48\n",
        "EMBEDDING_SIZE = 100\n",
        "UNITS = 128\n",
        "DROPOUT = 0.2\n",
        "### Training parameters\n",
        "LOSS = \"categorical_crossentropy\"\n",
        "OPTIMIZER = \"adam\"\n",
        "BATCH_SIZE = 32\n",
        "EPOCHS = 8\n",
        "LABELS = 26\n",
        "EMBEDDING_DIMS = len(dicts['token_ids'])+1"
      ]
    },
    {
      "cell_type": "markdown",
      "metadata": {},
      "source": [
        "## FUNCTION THAT CREATES THE MODEL"
      ]
    },
    {
      "cell_type": "code",
      "execution_count": 9,
      "metadata": {},
      "outputs": [],
      "source": [
        "def create_model(type, embedding_dims, embedding_size, input_length, units, dropout, labels):\n",
        "    model = Sequential()\n",
        "    model.add(Embedding(embedding_dims, embedding_size, input_length=input_length))\n",
        "    model.add(type(units, return_sequences=True)) #p/ mais de uma camada\n",
        "    model.add(Dropout(dropout))\n",
        "    model.add(type(units,return_sequences=False))\n",
        "    model.add(Dropout(dropout))\n",
        "    model.add(Dense(labels, activation='softmax'))\n",
        "    return model"
      ]
    },
    {
      "cell_type": "markdown",
      "metadata": {},
      "source": [
        "## FUNCTION THAT EVALUATES THE MODEL AND GENERATES THE CONFUSION MATRIX"
      ]
    },
    {
      "cell_type": "code",
      "execution_count": 10,
      "metadata": {},
      "outputs": [],
      "source": [
        "def evaluate_model(model, X_test, y_test):\n",
        "    Y_pred = model.predict(X_test)\n",
        "    \n",
        "    Y_pred_max = tf.argmax(tf.nn.softmax(Y_pred), -1).numpy().flatten()\n",
        "    y_test_max =tf.argmax(y_test, axis=-1).numpy().flatten()\n",
        "    y_no_pad = [(p,y) for p,y in zip(Y_pred_max, y_test_max) if y != 0]\n",
        "    pred = [x[0] for x in y_no_pad]\n",
        "    true = [x[1] for x in y_no_pad]\n",
        "\n",
        "    fig, ax = plt.subplots(figsize=(10,10))\n",
        "    sns.heatmap(confusion_matrix(pred, true), annot=True, vmax=100, ax=ax)\n",
        "\n",
        "    print(classification_report(pred, true, zero_division=False))"
      ]
    },
    {
      "cell_type": "markdown",
      "metadata": {},
      "source": [
        "## MODEL CREATION AND COMPILING\n",
        "Here we compare 3 different models: LSTM, RNN and GRU"
      ]
    },
    {
      "cell_type": "markdown",
      "metadata": {},
      "source": [
        "## LSTM"
      ]
    },
    {
      "cell_type": "code",
      "execution_count": 11,
      "metadata": {},
      "outputs": [
        {
          "name": "stdout",
          "output_type": "stream",
          "text": [
            "Model: \"sequential\"\n",
            "_________________________________________________________________\n",
            "Layer (type)                 Output Shape              Param #   \n",
            "=================================================================\n",
            "embedding (Embedding)        (None, 48, 100)           94400     \n",
            "_________________________________________________________________\n",
            "lstm (LSTM)                  (None, 48, 128)           117248    \n",
            "_________________________________________________________________\n",
            "dropout (Dropout)            (None, 48, 128)           0         \n",
            "_________________________________________________________________\n",
            "lstm_1 (LSTM)                (None, 128)               131584    \n",
            "_________________________________________________________________\n",
            "dropout_1 (Dropout)          (None, 128)               0         \n",
            "_________________________________________________________________\n",
            "dense (Dense)                (None, 26)                3354      \n",
            "=================================================================\n",
            "Total params: 346,586\n",
            "Trainable params: 346,586\n",
            "Non-trainable params: 0\n",
            "_________________________________________________________________\n"
          ]
        }
      ],
      "source": [
        "model_LSTM = create_model(LSTM, EMBEDDING_DIMS, EMBEDDING_SIZE, INPUT_LENGTH, UNITS, DROPOUT, LABELS)\n",
        "model_LSTM.compile(optimizer=OPTIMIZER, loss=LOSS, metrics=[\"accuracy\"])\n",
        "model_LSTM.summary()"
      ]
    },
    {
      "cell_type": "code",
      "execution_count": 12,
      "metadata": {},
      "outputs": [
        {
          "name": "stdout",
          "output_type": "stream",
          "text": [
            "Epoch 1/8\n",
            "125/125 - 24s - loss: 1.3461 - accuracy: 0.7201 - val_loss: 1.0941 - val_accuracy: 0.7518\n",
            "Epoch 2/8\n",
            "125/125 - 23s - loss: 1.1619 - accuracy: 0.7281 - val_loss: 0.7481 - val_accuracy: 0.8071\n",
            "Epoch 3/8\n",
            "125/125 - 17s - loss: 0.7069 - accuracy: 0.8224 - val_loss: 0.5002 - val_accuracy: 0.8723\n",
            "Epoch 4/8\n",
            "125/125 - 13s - loss: 0.4928 - accuracy: 0.8730 - val_loss: 0.3939 - val_accuracy: 0.9035\n",
            "Epoch 5/8\n",
            "125/125 - 13s - loss: 0.3606 - accuracy: 0.8990 - val_loss: 0.3546 - val_accuracy: 0.9007\n",
            "Epoch 6/8\n",
            "125/125 - 13s - loss: 0.2943 - accuracy: 0.9186 - val_loss: 0.3338 - val_accuracy: 0.9163\n",
            "Epoch 7/8\n",
            "125/125 - 13s - loss: 0.2510 - accuracy: 0.9301 - val_loss: 0.2695 - val_accuracy: 0.9404\n",
            "Epoch 8/8\n",
            "125/125 - 13s - loss: 0.1946 - accuracy: 0.9471 - val_loss: 0.2387 - val_accuracy: 0.9418\n"
          ]
        }
      ],
      "source": [
        "history = model_LSTM.fit(X_train, y_train, batch_size = BATCH_SIZE, epochs=EPOCHS,validation_split=0.15,verbose=2)"
      ]
    },
    {
      "cell_type": "code",
      "execution_count": 13,
      "metadata": {},
      "outputs": [
        {
          "name": "stdout",
          "output_type": "stream",
          "text": [
            "              precision    recall  f1-score   support\n",
            "\n",
            "           0       0.00      0.00      0.00        10\n",
            "           1       0.53      0.80      0.64        10\n",
            "           2       0.00      0.00      0.00         0\n",
            "           3       0.98      0.88      0.93       106\n",
            "           4       0.00      0.00      0.00         0\n",
            "           6       0.91      0.86      0.88        49\n",
            "           8       0.43      0.33      0.38         9\n",
            "           9       0.90      0.75      0.82        12\n",
            "          11       0.00      0.00      0.00         0\n",
            "          13       0.75      0.60      0.67         5\n",
            "          14       0.98      0.99      0.99       863\n",
            "          15       0.40      0.22      0.29         9\n",
            "          17       0.00      0.00      0.00         0\n",
            "          19       0.50      0.44      0.47         9\n",
            "          20       0.00      0.00      0.00         0\n",
            "          21       0.96      0.96      0.96        48\n",
            "          23       0.00      0.00      0.00         0\n",
            "          24       0.82      0.82      0.82        17\n",
            "          25       0.00      0.00      0.00         0\n",
            "\n",
            "    accuracy                           0.94      1147\n",
            "   macro avg       0.43      0.40      0.41      1147\n",
            "weighted avg       0.95      0.94      0.94      1147\n",
            "\n"
          ]
        },
        {
          "data": {
            "image/png": "[encoded data removed]",
            "text/plain": [
              "<Figure size 432x288 with 2 Axes>"
            ]
          },
          "metadata": {
            "needs_background": "light"
          },
          "output_type": "display_data"
        }
      ],
      "source": [
        "evaluate_model(model_LSTM, X_test, y_test)"
      ]
    },
    {
      "cell_type": "markdown",
      "metadata": {},
      "source": [
        "## RNN MODEL"
      ]
    },
    {
      "cell_type": "code",
      "execution_count": 14,
      "metadata": {},
      "outputs": [
        {
          "name": "stdout",
          "output_type": "stream",
          "text": [
            "Model: \"sequential_1\"\n",
            "_________________________________________________________________\n",
            "Layer (type)                 Output Shape              Param #   \n",
            "=================================================================\n",
            "embedding_1 (Embedding)      (None, 48, 100)           94400     \n",
            "_________________________________________________________________\n",
            "simple_rnn (SimpleRNN)       (None, 48, 128)           29312     \n",
            "_________________________________________________________________\n",
            "dropout_2 (Dropout)          (None, 48, 128)           0         \n",
            "_________________________________________________________________\n",
            "simple_rnn_1 (SimpleRNN)     (None, 128)               32896     \n",
            "_________________________________________________________________\n",
            "dropout_3 (Dropout)          (None, 128)               0         \n",
            "_________________________________________________________________\n",
            "dense_1 (Dense)              (None, 26)                3354      \n",
            "=================================================================\n",
            "Total params: 159,962\n",
            "Trainable params: 159,962\n",
            "Non-trainable params: 0\n",
            "_________________________________________________________________\n"
          ]
        }
      ],
      "source": [
        "model_SimpleRNN = create_model(SimpleRNN, EMBEDDING_DIMS, EMBEDDING_SIZE, INPUT_LENGTH, UNITS, DROPOUT, LABELS)\n",
        "model_SimpleRNN.compile(optimizer=OPTIMIZER, loss=LOSS, metrics=[\"accuracy\"])\n",
        "model_SimpleRNN.summary()"
      ]
    },
    {
      "cell_type": "code",
      "execution_count": 15,
      "metadata": {},
      "outputs": [
        {
          "name": "stdout",
          "output_type": "stream",
          "text": [
            "Epoch 1/8\n",
            "125/125 - 7s - loss: 1.2636 - accuracy: 0.7204 - val_loss: 0.8942 - val_accuracy: 0.7816\n",
            "Epoch 2/8\n",
            "125/125 - 4s - loss: 0.7734 - accuracy: 0.8181 - val_loss: 0.5779 - val_accuracy: 0.8667\n",
            "Epoch 3/8\n",
            "125/125 - 4s - loss: 0.4518 - accuracy: 0.8870 - val_loss: 0.3743 - val_accuracy: 0.9135\n",
            "Epoch 4/8\n",
            "125/125 - 4s - loss: 0.3177 - accuracy: 0.9166 - val_loss: 0.3750 - val_accuracy: 0.9149\n",
            "Epoch 5/8\n",
            "125/125 - 4s - loss: 0.2317 - accuracy: 0.9421 - val_loss: 0.2823 - val_accuracy: 0.9319\n",
            "Epoch 6/8\n",
            "125/125 - 4s - loss: 0.1507 - accuracy: 0.9634 - val_loss: 0.4338 - val_accuracy: 0.8851\n",
            "Epoch 7/8\n",
            "125/125 - 4s - loss: 0.1177 - accuracy: 0.9722 - val_loss: 0.2859 - val_accuracy: 0.9404\n",
            "Epoch 8/8\n",
            "125/125 - 4s - loss: 0.0606 - accuracy: 0.9872 - val_loss: 0.2928 - val_accuracy: 0.9319\n"
          ]
        }
      ],
      "source": [
        "history = model_SimpleRNN.fit(X_train, y_train, batch_size = BATCH_SIZE, epochs=EPOCHS,validation_split=0.15,verbose=2)"
      ]
    },
    {
      "cell_type": "code",
      "execution_count": 16,
      "metadata": {},
      "outputs": [
        {
          "name": "stdout",
          "output_type": "stream",
          "text": [
            "              precision    recall  f1-score   support\n",
            "\n",
            "           0       0.00      0.00      0.00         6\n",
            "           1       0.47      0.64      0.54        11\n",
            "           2       0.00      0.00      0.00         0\n",
            "           3       0.96      0.88      0.91       104\n",
            "           4       0.00      0.00      0.00         0\n",
            "           6       0.76      0.80      0.78        44\n",
            "           8       0.86      0.86      0.86         7\n",
            "           9       0.80      0.89      0.84         9\n",
            "          11       0.40      1.00      0.57         2\n",
            "          13       1.00      0.67      0.80         6\n",
            "          14       0.99      0.97      0.98       886\n",
            "          15       0.40      0.67      0.50         3\n",
            "          17       0.00      0.00      0.00         0\n",
            "          19       0.00      0.00      0.00         1\n",
            "          20       0.60      0.38      0.46         8\n",
            "          21       0.94      1.00      0.97        45\n",
            "          23       0.00      0.00      0.00         0\n",
            "          24       0.53      0.69      0.60        13\n",
            "          25       1.00      1.00      1.00         2\n",
            "\n",
            "    accuracy                           0.94      1147\n",
            "   macro avg       0.51      0.55      0.52      1147\n",
            "weighted avg       0.95      0.94      0.94      1147\n",
            "\n"
          ]
        },
        {
          "data": {
            "image/png": "[encoded data removed]",
            "text/plain": [
              "<Figure size 432x288 with 2 Axes>"
            ]
          },
          "metadata": {
            "needs_background": "light"
          },
          "output_type": "display_data"
        }
      ],
      "source": [
        "evaluate_model(model_SimpleRNN, X_test, y_test)"
      ]
    },
    {
      "cell_type": "markdown",
      "metadata": {},
      "source": [
        "## GRU MODEL"
      ]
    },
    {
      "cell_type": "code",
      "execution_count": 17,
      "metadata": {},
      "outputs": [
        {
          "name": "stdout",
          "output_type": "stream",
          "text": [
            "Model: \"sequential_2\"\n",
            "_________________________________________________________________\n",
            "Layer (type)                 Output Shape              Param #   \n",
            "=================================================================\n",
            "embedding_2 (Embedding)      (None, 48, 100)           94400     \n",
            "_________________________________________________________________\n",
            "gru (GRU)                    (None, 48, 128)           88320     \n",
            "_________________________________________________________________\n",
            "dropout_4 (Dropout)          (None, 48, 128)           0         \n",
            "_________________________________________________________________\n",
            "gru_1 (GRU)                  (None, 128)               99072     \n",
            "_________________________________________________________________\n",
            "dropout_5 (Dropout)          (None, 128)               0         \n",
            "_________________________________________________________________\n",
            "dense_2 (Dense)              (None, 26)                3354      \n",
            "=================================================================\n",
            "Total params: 285,146\n",
            "Trainable params: 285,146\n",
            "Non-trainable params: 0\n",
            "_________________________________________________________________\n"
          ]
        }
      ],
      "source": [
        "model_GRU = create_model(GRU, EMBEDDING_DIMS, EMBEDDING_SIZE, INPUT_LENGTH, UNITS, DROPOUT, LABELS)\n",
        "model_GRU.compile(optimizer=OPTIMIZER, loss=LOSS, metrics=[\"accuracy\"])\n",
        "model_GRU.summary()"
      ]
    },
    {
      "cell_type": "code",
      "execution_count": 18,
      "metadata": {},
      "outputs": [
        {
          "name": "stdout",
          "output_type": "stream",
          "text": [
            "Epoch 1/8\n",
            "125/125 - 18s - loss: 1.2190 - accuracy: 0.7347 - val_loss: 0.7029 - val_accuracy: 0.7972\n",
            "Epoch 2/8\n",
            "125/125 - 12s - loss: 0.6351 - accuracy: 0.8424 - val_loss: 0.4844 - val_accuracy: 0.8837\n",
            "Epoch 3/8\n",
            "125/125 - 13s - loss: 0.4070 - accuracy: 0.8915 - val_loss: 0.3020 - val_accuracy: 0.9206\n",
            "Epoch 4/8\n",
            "125/125 - 13s - loss: 0.2480 - accuracy: 0.9308 - val_loss: 0.2451 - val_accuracy: 0.9404\n",
            "Epoch 5/8\n",
            "125/125 - 11s - loss: 0.1574 - accuracy: 0.9582 - val_loss: 0.1906 - val_accuracy: 0.9489\n",
            "Epoch 6/8\n",
            "125/125 - 13s - loss: 0.1033 - accuracy: 0.9739 - val_loss: 0.1894 - val_accuracy: 0.9603\n",
            "Epoch 7/8\n",
            "125/125 - 10s - loss: 0.0617 - accuracy: 0.9852 - val_loss: 0.1780 - val_accuracy: 0.9645\n",
            "Epoch 8/8\n",
            "125/125 - 10s - loss: 0.0567 - accuracy: 0.9865 - val_loss: 0.1745 - val_accuracy: 0.9702\n"
          ]
        }
      ],
      "source": [
        "history = model_GRU.fit(X_train, y_train, batch_size = BATCH_SIZE, epochs=EPOCHS,validation_split=0.15,verbose=2)"
      ]
    },
    {
      "cell_type": "code",
      "execution_count": 19,
      "metadata": {},
      "outputs": [
        {
          "name": "stdout",
          "output_type": "stream",
          "text": [
            "              precision    recall  f1-score   support\n",
            "\n",
            "           0       0.00      0.00      0.00         1\n",
            "           1       0.93      0.93      0.93        15\n",
            "           2       0.00      0.00      0.00         0\n",
            "           3       0.98      0.98      0.98        95\n",
            "           4       0.00      0.00      0.00         0\n",
            "           6       0.96      0.98      0.97        45\n",
            "           8       0.71      0.83      0.77         6\n",
            "           9       1.00      0.83      0.91        12\n",
            "          11       0.60      0.60      0.60         5\n",
            "          13       1.00      0.80      0.89         5\n",
            "          14       0.99      0.99      0.99       874\n",
            "          15       0.80      0.57      0.67         7\n",
            "          17       0.75      1.00      0.86         3\n",
            "          19       0.75      0.75      0.75         8\n",
            "          20       1.00      1.00      1.00         5\n",
            "          21       1.00      0.96      0.98        50\n",
            "          23       0.00      0.00      0.00         0\n",
            "          24       0.88      1.00      0.94        15\n",
            "          25       0.50      1.00      0.67         1\n",
            "\n",
            "    accuracy                           0.98      1147\n",
            "   macro avg       0.68      0.70      0.68      1147\n",
            "weighted avg       0.98      0.98      0.98      1147\n",
            "\n"
          ]
        },
        {
          "data": {
            "image/png": "[encoded data removed]",
            "text/plain": [
              "<Figure size 432x288 with 2 Axes>"
            ]
          },
          "metadata": {
            "needs_background": "light"
          },
          "output_type": "display_data"
        }
      ],
      "source": [
        "evaluate_model(model_GRU, X_test, y_test)"
      ]
    },
    {
      "cell_type": "code",
      "execution_count": null,
      "metadata": {},
      "outputs": [],
      "source": []
    }
  ],
  "metadata": {
    "accelerator": "GPU",
    "colab": {
      "collapsed_sections": [],
      "name": "text_classification.ipynb",
      "provenance": [],
      "toc_visible": true
    },
    "interpreter": {
      "hash": "d1ec9569468ba31803cd4d4826401972858a08fd18dade65c2ce339ee0def777"
    },
    "kernelspec": {
      "display_name": "Python 3.9.0 64-bit",
      "name": "python3"
    },
    "language_info": {
      "codemirror_mode": {
        "name": "ipython",
        "version": 3
      },
      "file_extension": ".py",
      "mimetype": "text/x-python",
      "name": "python",
      "nbconvert_exporter": "python",
      "pygments_lexer": "ipython3",
      "version": "3.9.0"
    }
  },
  "nbformat": 4,
  "nbformat_minor": 2
}
